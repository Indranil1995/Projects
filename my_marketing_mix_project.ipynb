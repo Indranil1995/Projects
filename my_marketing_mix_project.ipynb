{
 "cells": [
  {
   "cell_type": "markdown",
   "metadata": {},
   "source": [
    "### Import Libraries"
   ]
  },
  {
   "cell_type": "code",
   "execution_count": 1,
   "metadata": {},
   "outputs": [],
   "source": [
    "import numpy as np\n",
    "import pandas as pd\n",
    "import matplotlib.pyplot as plt\n",
    "import seaborn as sns\n",
    "sns.set()"
   ]
  },
  {
   "cell_type": "markdown",
   "metadata": {},
   "source": [
    "### Import dataset"
   ]
  },
  {
   "cell_type": "code",
   "execution_count": 2,
   "metadata": {},
   "outputs": [
    {
     "data": {
      "text/html": [
       "<div>\n",
       "<style scoped>\n",
       "    .dataframe tbody tr th:only-of-type {\n",
       "        vertical-align: middle;\n",
       "    }\n",
       "\n",
       "    .dataframe tbody tr th {\n",
       "        vertical-align: top;\n",
       "    }\n",
       "\n",
       "    .dataframe thead th {\n",
       "        text-align: right;\n",
       "    }\n",
       "</style>\n",
       "<table border=\"1\" class=\"dataframe\">\n",
       "  <thead>\n",
       "    <tr style=\"text-align: right;\">\n",
       "      <th></th>\n",
       "      <th>NewVolSales</th>\n",
       "      <th>Base_Price</th>\n",
       "      <th>Radio</th>\n",
       "      <th>InStore</th>\n",
       "      <th>NewspaperInserts</th>\n",
       "      <th>Discount</th>\n",
       "      <th>TV</th>\n",
       "      <th>Stout</th>\n",
       "      <th>Website_Campaign</th>\n",
       "    </tr>\n",
       "  </thead>\n",
       "  <tbody>\n",
       "    <tr>\n",
       "      <th>0</th>\n",
       "      <td>19564</td>\n",
       "      <td>15.029276</td>\n",
       "      <td>245.0</td>\n",
       "      <td>15.452</td>\n",
       "      <td>NaN</td>\n",
       "      <td>0.000</td>\n",
       "      <td>101.780000</td>\n",
       "      <td>2.28342</td>\n",
       "      <td>NaN</td>\n",
       "    </tr>\n",
       "    <tr>\n",
       "      <th>1</th>\n",
       "      <td>19387</td>\n",
       "      <td>15.029276</td>\n",
       "      <td>314.0</td>\n",
       "      <td>16.388</td>\n",
       "      <td>NaN</td>\n",
       "      <td>0.000</td>\n",
       "      <td>76.734000</td>\n",
       "      <td>2.22134</td>\n",
       "      <td>NaN</td>\n",
       "    </tr>\n",
       "    <tr>\n",
       "      <th>2</th>\n",
       "      <td>23889</td>\n",
       "      <td>14.585093</td>\n",
       "      <td>324.0</td>\n",
       "      <td>62.692</td>\n",
       "      <td>NaN</td>\n",
       "      <td>0.050</td>\n",
       "      <td>131.590200</td>\n",
       "      <td>2.00604</td>\n",
       "      <td>NaN</td>\n",
       "    </tr>\n",
       "    <tr>\n",
       "      <th>3</th>\n",
       "      <td>20055</td>\n",
       "      <td>15.332887</td>\n",
       "      <td>298.0</td>\n",
       "      <td>16.573</td>\n",
       "      <td>NaN</td>\n",
       "      <td>0.000</td>\n",
       "      <td>119.627060</td>\n",
       "      <td>2.19897</td>\n",
       "      <td>NaN</td>\n",
       "    </tr>\n",
       "    <tr>\n",
       "      <th>4</th>\n",
       "      <td>20064</td>\n",
       "      <td>15.642632</td>\n",
       "      <td>279.0</td>\n",
       "      <td>41.504</td>\n",
       "      <td>NaN</td>\n",
       "      <td>0.045</td>\n",
       "      <td>103.438118</td>\n",
       "      <td>1.81860</td>\n",
       "      <td>NaN</td>\n",
       "    </tr>\n",
       "  </tbody>\n",
       "</table>\n",
       "</div>"
      ],
      "text/plain": [
       "   NewVolSales  Base_Price  Radio   InStore NewspaperInserts  Discount  \\\n",
       "0        19564   15.029276   245.0   15.452              NaN     0.000   \n",
       "1        19387   15.029276   314.0   16.388              NaN     0.000   \n",
       "2        23889   14.585093   324.0   62.692              NaN     0.050   \n",
       "3        20055   15.332887   298.0   16.573              NaN     0.000   \n",
       "4        20064   15.642632   279.0   41.504              NaN     0.045   \n",
       "\n",
       "           TV    Stout Website_Campaign   \n",
       "0  101.780000  2.28342               NaN  \n",
       "1   76.734000  2.22134               NaN  \n",
       "2  131.590200  2.00604               NaN  \n",
       "3  119.627060  2.19897               NaN  \n",
       "4  103.438118  1.81860               NaN  "
      ]
     },
     "execution_count": 2,
     "metadata": {},
     "output_type": "execute_result"
    }
   ],
   "source": [
    "data = pd.read_csv('mktmix.csv')\n",
    "data.head()"
   ]
  },
  {
   "cell_type": "code",
   "execution_count": 3,
   "metadata": {},
   "outputs": [
    {
     "data": {
      "text/plain": [
       "(104, 9)"
      ]
     },
     "execution_count": 3,
     "metadata": {},
     "output_type": "execute_result"
    }
   ],
   "source": [
    "data.shape"
   ]
  },
  {
   "cell_type": "code",
   "execution_count": 4,
   "metadata": {},
   "outputs": [
    {
     "data": {
      "text/plain": [
       "NewVolSales           0\n",
       "Base_Price            0\n",
       "Radio                 4\n",
       "InStore               0\n",
       "NewspaperInserts     98\n",
       "Discount              0\n",
       "TV                    0\n",
       "Stout                 0\n",
       "Website_Campaign     90\n",
       "dtype: int64"
      ]
     },
     "execution_count": 4,
     "metadata": {},
     "output_type": "execute_result"
    }
   ],
   "source": [
    "data.isnull().sum()"
   ]
  },
  {
   "cell_type": "code",
   "execution_count": 5,
   "metadata": {},
   "outputs": [
    {
     "data": {
      "text/plain": [
       "Website Campaign     6\n",
       "Facebook             4\n",
       "Twitter              4\n",
       "Name: Website_Campaign , dtype: int64"
      ]
     },
     "execution_count": 5,
     "metadata": {},
     "output_type": "execute_result"
    }
   ],
   "source": [
    "data.iloc[:,-1].value_counts()"
   ]
  },
  {
   "cell_type": "code",
   "execution_count": 6,
   "metadata": {},
   "outputs": [
    {
     "data": {
      "text/plain": [
       "Insert    6\n",
       "Name: NewspaperInserts, dtype: int64"
      ]
     },
     "execution_count": 6,
     "metadata": {},
     "output_type": "execute_result"
    }
   ],
   "source": [
    "data.iloc[:,4].value_counts()"
   ]
  },
  {
   "cell_type": "markdown",
   "metadata": {},
   "source": [
    "### Handeling missing values"
   ]
  },
  {
   "cell_type": "code",
   "execution_count": 7,
   "metadata": {},
   "outputs": [],
   "source": [
    "data.drop(['NewspaperInserts'], axis=1,inplace=True)"
   ]
  },
  {
   "cell_type": "code",
   "execution_count": 8,
   "metadata": {},
   "outputs": [
    {
     "data": {
      "text/html": [
       "<div>\n",
       "<style scoped>\n",
       "    .dataframe tbody tr th:only-of-type {\n",
       "        vertical-align: middle;\n",
       "    }\n",
       "\n",
       "    .dataframe tbody tr th {\n",
       "        vertical-align: top;\n",
       "    }\n",
       "\n",
       "    .dataframe thead th {\n",
       "        text-align: right;\n",
       "    }\n",
       "</style>\n",
       "<table border=\"1\" class=\"dataframe\">\n",
       "  <thead>\n",
       "    <tr style=\"text-align: right;\">\n",
       "      <th></th>\n",
       "      <th>NewVolSales</th>\n",
       "      <th>Base_Price</th>\n",
       "      <th>Radio</th>\n",
       "      <th>InStore</th>\n",
       "      <th>Discount</th>\n",
       "      <th>TV</th>\n",
       "      <th>Stout</th>\n",
       "      <th>Website_Campaign</th>\n",
       "    </tr>\n",
       "  </thead>\n",
       "  <tbody>\n",
       "    <tr>\n",
       "      <th>0</th>\n",
       "      <td>19564</td>\n",
       "      <td>15.029276</td>\n",
       "      <td>245.0</td>\n",
       "      <td>15.452</td>\n",
       "      <td>0.000</td>\n",
       "      <td>101.780000</td>\n",
       "      <td>2.28342</td>\n",
       "      <td>NaN</td>\n",
       "    </tr>\n",
       "    <tr>\n",
       "      <th>1</th>\n",
       "      <td>19387</td>\n",
       "      <td>15.029276</td>\n",
       "      <td>314.0</td>\n",
       "      <td>16.388</td>\n",
       "      <td>0.000</td>\n",
       "      <td>76.734000</td>\n",
       "      <td>2.22134</td>\n",
       "      <td>NaN</td>\n",
       "    </tr>\n",
       "    <tr>\n",
       "      <th>2</th>\n",
       "      <td>23889</td>\n",
       "      <td>14.585093</td>\n",
       "      <td>324.0</td>\n",
       "      <td>62.692</td>\n",
       "      <td>0.050</td>\n",
       "      <td>131.590200</td>\n",
       "      <td>2.00604</td>\n",
       "      <td>NaN</td>\n",
       "    </tr>\n",
       "    <tr>\n",
       "      <th>3</th>\n",
       "      <td>20055</td>\n",
       "      <td>15.332887</td>\n",
       "      <td>298.0</td>\n",
       "      <td>16.573</td>\n",
       "      <td>0.000</td>\n",
       "      <td>119.627060</td>\n",
       "      <td>2.19897</td>\n",
       "      <td>NaN</td>\n",
       "    </tr>\n",
       "    <tr>\n",
       "      <th>4</th>\n",
       "      <td>20064</td>\n",
       "      <td>15.642632</td>\n",
       "      <td>279.0</td>\n",
       "      <td>41.504</td>\n",
       "      <td>0.045</td>\n",
       "      <td>103.438118</td>\n",
       "      <td>1.81860</td>\n",
       "      <td>NaN</td>\n",
       "    </tr>\n",
       "  </tbody>\n",
       "</table>\n",
       "</div>"
      ],
      "text/plain": [
       "   NewVolSales  Base_Price  Radio   InStore  Discount          TV    Stout  \\\n",
       "0        19564   15.029276   245.0   15.452     0.000  101.780000  2.28342   \n",
       "1        19387   15.029276   314.0   16.388     0.000   76.734000  2.22134   \n",
       "2        23889   14.585093   324.0   62.692     0.050  131.590200  2.00604   \n",
       "3        20055   15.332887   298.0   16.573     0.000  119.627060  2.19897   \n",
       "4        20064   15.642632   279.0   41.504     0.045  103.438118  1.81860   \n",
       "\n",
       "  Website_Campaign   \n",
       "0               NaN  \n",
       "1               NaN  \n",
       "2               NaN  \n",
       "3               NaN  \n",
       "4               NaN  "
      ]
     },
     "execution_count": 8,
     "metadata": {},
     "output_type": "execute_result"
    }
   ],
   "source": [
    "data.head()"
   ]
  },
  {
   "cell_type": "code",
   "execution_count": 9,
   "metadata": {},
   "outputs": [
    {
     "data": {
      "text/plain": [
       "Index(['NewVolSales', 'Base_Price', 'Radio ', 'InStore', 'Discount', 'TV',\n",
       "       'Stout', 'Website_Campaign '],\n",
       "      dtype='object')"
      ]
     },
     "execution_count": 9,
     "metadata": {},
     "output_type": "execute_result"
    }
   ],
   "source": [
    "data.columns"
   ]
  },
  {
   "cell_type": "code",
   "execution_count": 10,
   "metadata": {},
   "outputs": [],
   "source": [
    "data.drop(['Website_Campaign '],axis=1,inplace=True)\n",
    "### In both the columns 'NewspaperInserts'&'Website_Campaign' max features are missing so we drop them."
   ]
  },
  {
   "cell_type": "code",
   "execution_count": 11,
   "metadata": {},
   "outputs": [
    {
     "data": {
      "text/html": [
       "<div>\n",
       "<style scoped>\n",
       "    .dataframe tbody tr th:only-of-type {\n",
       "        vertical-align: middle;\n",
       "    }\n",
       "\n",
       "    .dataframe tbody tr th {\n",
       "        vertical-align: top;\n",
       "    }\n",
       "\n",
       "    .dataframe thead th {\n",
       "        text-align: right;\n",
       "    }\n",
       "</style>\n",
       "<table border=\"1\" class=\"dataframe\">\n",
       "  <thead>\n",
       "    <tr style=\"text-align: right;\">\n",
       "      <th></th>\n",
       "      <th>NewVolSales</th>\n",
       "      <th>Base_Price</th>\n",
       "      <th>Radio</th>\n",
       "      <th>InStore</th>\n",
       "      <th>Discount</th>\n",
       "      <th>TV</th>\n",
       "      <th>Stout</th>\n",
       "    </tr>\n",
       "  </thead>\n",
       "  <tbody>\n",
       "    <tr>\n",
       "      <th>0</th>\n",
       "      <td>19564</td>\n",
       "      <td>15.029276</td>\n",
       "      <td>245.0</td>\n",
       "      <td>15.452</td>\n",
       "      <td>0.000</td>\n",
       "      <td>101.780000</td>\n",
       "      <td>2.28342</td>\n",
       "    </tr>\n",
       "    <tr>\n",
       "      <th>1</th>\n",
       "      <td>19387</td>\n",
       "      <td>15.029276</td>\n",
       "      <td>314.0</td>\n",
       "      <td>16.388</td>\n",
       "      <td>0.000</td>\n",
       "      <td>76.734000</td>\n",
       "      <td>2.22134</td>\n",
       "    </tr>\n",
       "    <tr>\n",
       "      <th>2</th>\n",
       "      <td>23889</td>\n",
       "      <td>14.585093</td>\n",
       "      <td>324.0</td>\n",
       "      <td>62.692</td>\n",
       "      <td>0.050</td>\n",
       "      <td>131.590200</td>\n",
       "      <td>2.00604</td>\n",
       "    </tr>\n",
       "    <tr>\n",
       "      <th>3</th>\n",
       "      <td>20055</td>\n",
       "      <td>15.332887</td>\n",
       "      <td>298.0</td>\n",
       "      <td>16.573</td>\n",
       "      <td>0.000</td>\n",
       "      <td>119.627060</td>\n",
       "      <td>2.19897</td>\n",
       "    </tr>\n",
       "    <tr>\n",
       "      <th>4</th>\n",
       "      <td>20064</td>\n",
       "      <td>15.642632</td>\n",
       "      <td>279.0</td>\n",
       "      <td>41.504</td>\n",
       "      <td>0.045</td>\n",
       "      <td>103.438118</td>\n",
       "      <td>1.81860</td>\n",
       "    </tr>\n",
       "  </tbody>\n",
       "</table>\n",
       "</div>"
      ],
      "text/plain": [
       "   NewVolSales  Base_Price  Radio   InStore  Discount          TV    Stout\n",
       "0        19564   15.029276   245.0   15.452     0.000  101.780000  2.28342\n",
       "1        19387   15.029276   314.0   16.388     0.000   76.734000  2.22134\n",
       "2        23889   14.585093   324.0   62.692     0.050  131.590200  2.00604\n",
       "3        20055   15.332887   298.0   16.573     0.000  119.627060  2.19897\n",
       "4        20064   15.642632   279.0   41.504     0.045  103.438118  1.81860"
      ]
     },
     "execution_count": 11,
     "metadata": {},
     "output_type": "execute_result"
    }
   ],
   "source": [
    "data.head()"
   ]
  },
  {
   "cell_type": "code",
   "execution_count": 12,
   "metadata": {},
   "outputs": [],
   "source": [
    "### Now we have a feature 'Radio' which has 4 missing value so we replace with mean.\n",
    "data['Radio '].mean()\n",
    "data['Radio '].fillna(data['Radio '].mean(), inplace=True)"
   ]
  },
  {
   "cell_type": "code",
   "execution_count": 13,
   "metadata": {},
   "outputs": [
    {
     "data": {
      "text/plain": [
       "NewVolSales    0\n",
       "Base_Price     0\n",
       "Radio          0\n",
       "InStore        0\n",
       "Discount       0\n",
       "TV             0\n",
       "Stout          0\n",
       "dtype: int64"
      ]
     },
     "execution_count": 13,
     "metadata": {},
     "output_type": "execute_result"
    }
   ],
   "source": [
    "data.isnull().sum()"
   ]
  },
  {
   "cell_type": "code",
   "execution_count": 14,
   "metadata": {},
   "outputs": [],
   "source": [
    "### Now we don't have any missing values so we can move ahed"
   ]
  },
  {
   "cell_type": "code",
   "execution_count": 15,
   "metadata": {},
   "outputs": [
    {
     "data": {
      "text/html": [
       "<div>\n",
       "<style scoped>\n",
       "    .dataframe tbody tr th:only-of-type {\n",
       "        vertical-align: middle;\n",
       "    }\n",
       "\n",
       "    .dataframe tbody tr th {\n",
       "        vertical-align: top;\n",
       "    }\n",
       "\n",
       "    .dataframe thead th {\n",
       "        text-align: right;\n",
       "    }\n",
       "</style>\n",
       "<table border=\"1\" class=\"dataframe\">\n",
       "  <thead>\n",
       "    <tr style=\"text-align: right;\">\n",
       "      <th></th>\n",
       "      <th>NewVolSales</th>\n",
       "      <th>Base_Price</th>\n",
       "      <th>Radio</th>\n",
       "      <th>InStore</th>\n",
       "      <th>Discount</th>\n",
       "      <th>TV</th>\n",
       "      <th>Stout</th>\n",
       "    </tr>\n",
       "  </thead>\n",
       "  <tbody>\n",
       "    <tr>\n",
       "      <th>NewVolSales</th>\n",
       "      <td>1.000000</td>\n",
       "      <td>-0.729258</td>\n",
       "      <td>0.046524</td>\n",
       "      <td>0.441627</td>\n",
       "      <td>0.424761</td>\n",
       "      <td>0.145308</td>\n",
       "      <td>-0.375905</td>\n",
       "    </tr>\n",
       "    <tr>\n",
       "      <th>Base_Price</th>\n",
       "      <td>-0.729258</td>\n",
       "      <td>1.000000</td>\n",
       "      <td>-0.000039</td>\n",
       "      <td>-0.230751</td>\n",
       "      <td>-0.189975</td>\n",
       "      <td>0.065872</td>\n",
       "      <td>-0.027607</td>\n",
       "    </tr>\n",
       "    <tr>\n",
       "      <th>Radio</th>\n",
       "      <td>0.046524</td>\n",
       "      <td>-0.000039</td>\n",
       "      <td>1.000000</td>\n",
       "      <td>-0.017812</td>\n",
       "      <td>0.112135</td>\n",
       "      <td>-0.061887</td>\n",
       "      <td>-0.185066</td>\n",
       "    </tr>\n",
       "    <tr>\n",
       "      <th>InStore</th>\n",
       "      <td>0.441627</td>\n",
       "      <td>-0.230751</td>\n",
       "      <td>-0.017812</td>\n",
       "      <td>1.000000</td>\n",
       "      <td>0.719376</td>\n",
       "      <td>-0.015759</td>\n",
       "      <td>0.025108</td>\n",
       "    </tr>\n",
       "    <tr>\n",
       "      <th>Discount</th>\n",
       "      <td>0.424761</td>\n",
       "      <td>-0.189975</td>\n",
       "      <td>0.112135</td>\n",
       "      <td>0.719376</td>\n",
       "      <td>1.000000</td>\n",
       "      <td>0.115074</td>\n",
       "      <td>-0.025555</td>\n",
       "    </tr>\n",
       "    <tr>\n",
       "      <th>TV</th>\n",
       "      <td>0.145308</td>\n",
       "      <td>0.065872</td>\n",
       "      <td>-0.061887</td>\n",
       "      <td>-0.015759</td>\n",
       "      <td>0.115074</td>\n",
       "      <td>1.000000</td>\n",
       "      <td>-0.126546</td>\n",
       "    </tr>\n",
       "    <tr>\n",
       "      <th>Stout</th>\n",
       "      <td>-0.375905</td>\n",
       "      <td>-0.027607</td>\n",
       "      <td>-0.185066</td>\n",
       "      <td>0.025108</td>\n",
       "      <td>-0.025555</td>\n",
       "      <td>-0.126546</td>\n",
       "      <td>1.000000</td>\n",
       "    </tr>\n",
       "  </tbody>\n",
       "</table>\n",
       "</div>"
      ],
      "text/plain": [
       "             NewVolSales  Base_Price    Radio    InStore  Discount        TV  \\\n",
       "NewVolSales     1.000000   -0.729258  0.046524  0.441627  0.424761  0.145308   \n",
       "Base_Price     -0.729258    1.000000 -0.000039 -0.230751 -0.189975  0.065872   \n",
       "Radio           0.046524   -0.000039  1.000000 -0.017812  0.112135 -0.061887   \n",
       "InStore         0.441627   -0.230751 -0.017812  1.000000  0.719376 -0.015759   \n",
       "Discount        0.424761   -0.189975  0.112135  0.719376  1.000000  0.115074   \n",
       "TV              0.145308    0.065872 -0.061887 -0.015759  0.115074  1.000000   \n",
       "Stout          -0.375905   -0.027607 -0.185066  0.025108 -0.025555 -0.126546   \n",
       "\n",
       "                Stout  \n",
       "NewVolSales -0.375905  \n",
       "Base_Price  -0.027607  \n",
       "Radio       -0.185066  \n",
       "InStore      0.025108  \n",
       "Discount    -0.025555  \n",
       "TV          -0.126546  \n",
       "Stout        1.000000  "
      ]
     },
     "execution_count": 15,
     "metadata": {},
     "output_type": "execute_result"
    }
   ],
   "source": [
    "data.corr()"
   ]
  },
  {
   "cell_type": "code",
   "execution_count": 16,
   "metadata": {},
   "outputs": [
    {
     "data": {
      "text/plain": [
       "<matplotlib.axes._subplots.AxesSubplot at 0x1e6dabe0880>"
      ]
     },
     "execution_count": 16,
     "metadata": {},
     "output_type": "execute_result"
    },
    {
     "data": {
      "image/png": "[encoded data removed]",
      "text/plain": [
       "<Figure size 432x288 with 2 Axes>"
      ]
     },
     "metadata": {},
     "output_type": "display_data"
    }
   ],
   "source": [
    "sns.heatmap(data.corr())"
   ]
  },
  {
   "cell_type": "markdown",
   "metadata": {},
   "source": [
    "### Split the data"
   ]
  },
  {
   "cell_type": "code",
   "execution_count": 17,
   "metadata": {},
   "outputs": [],
   "source": [
    "X = data.iloc[:,1:].values\n",
    "y = data.iloc[:,0].values"
   ]
  },
  {
   "cell_type": "code",
   "execution_count": 18,
   "metadata": {},
   "outputs": [],
   "source": [
    "from sklearn.model_selection import train_test_split\n",
    "from sklearn.preprocessing import StandardScaler"
   ]
  },
  {
   "cell_type": "code",
   "execution_count": 19,
   "metadata": {},
   "outputs": [],
   "source": [
    "X_train,X_test,y_train,y_test = train_test_split(X,y, test_size=0.25,random_state=42 )"
   ]
  },
  {
   "cell_type": "code",
   "execution_count": 20,
   "metadata": {},
   "outputs": [
    {
     "data": {
      "text/plain": [
       "array([[1.57998430e+01, 2.50000000e+02, 3.19370000e+01, 0.00000000e+00,\n",
       "        1.30225475e+02, 2.20692000e+00],\n",
       "       [1.59586340e+01, 3.13000000e+02, 3.36140000e+01, 4.08418220e-02,\n",
       "        1.33989117e+02, 2.41451000e+00],\n",
       "       [1.62810198e+01, 2.76000000e+02, 2.66020000e+01, 0.00000000e+00,\n",
       "        1.18634630e+02, 2.64806000e+00],\n",
       "       [1.54869851e+01, 3.18000000e+02, 2.72720000e+01, 4.50000000e-02,\n",
       "        1.87448232e+02, 2.44064000e+00],\n",
       "       [1.51803222e+01, 2.12000000e+02, 1.83870000e+01, 0.00000000e+00,\n",
       "        3.76561745e+01, 2.89872000e+00],\n",
       "       [1.59586340e+01, 3.30000000e+02, 3.68180000e+01, 6.50000000e-02,\n",
       "        1.81083341e+02, 2.27081000e+00],\n",
       "       [1.62810198e+01, 2.56690000e+02, 4.61690000e+01, 6.05349600e-02,\n",
       "        1.62128223e+02, 2.66790000e+00],\n",
       "       [1.45850933e+01, 2.50000000e+02, 6.81190000e+01, 7.73041590e-02,\n",
       "        4.86145137e+01, 2.51717000e+00],\n",
       "       [1.53328870e+01, 3.15000000e+02, 1.31180000e+01, 0.00000000e+00,\n",
       "        8.32393053e+01, 2.46132000e+00],\n",
       "       [1.48797317e+01, 2.43000000e+02, 2.93170000e+01, 0.00000000e+00,\n",
       "        9.90043541e+01, 2.41463000e+00],\n",
       "       [1.54869851e+01, 2.59000000e+02, 2.04040000e+01, 0.00000000e+00,\n",
       "        1.28401435e+02, 2.29155000e+00],\n",
       "       [1.57998430e+01, 3.17000000e+02, 4.61180000e+01, 4.83620860e-02,\n",
       "        1.02209621e+02, 2.53279000e+00],\n",
       "       [1.48797317e+01, 0.00000000e+00, 6.33760000e+01, 5.57647300e-02,\n",
       "        1.38841775e+02, 2.15073000e+00],\n",
       "       [1.61190209e+01, 2.36000000e+02, 1.66840000e+01, 0.00000000e+00,\n",
       "        1.50915432e+02, 2.23971000e+00],\n",
       "       [1.54869851e+01, 2.24000000e+02, 3.03860000e+01, 3.94698090e-02,\n",
       "        1.68939767e+02, 2.91240000e+00],\n",
       "       [1.50292755e+01, 2.50000000e+02, 2.62280000e+01, 0.00000000e+00,\n",
       "        1.27687643e+02, 2.38661000e+00],\n",
       "       [1.50292755e+01, 3.24000000e+02, 2.88830000e+01, 0.00000000e+00,\n",
       "        1.30346798e+02, 2.54844000e+00],\n",
       "       [1.56426319e+01, 0.00000000e+00, 2.54060000e+01, 0.00000000e+00,\n",
       "        2.35765889e+02, 2.47329000e+00],\n",
       "       [1.54869851e+01, 2.90000000e+02, 1.66170000e+01, 0.00000000e+00,\n",
       "        1.19258129e+02, 2.63739000e+00],\n",
       "       [1.56426319e+01, 3.20000000e+02, 5.77070000e+01, 5.22933100e-02,\n",
       "        1.26576735e+02, 2.45625000e+00],\n",
       "       [1.51803222e+01, 3.00000000e+02, 4.11720000e+01, 4.94061280e-02,\n",
       "        1.08940212e+02, 2.38016000e+00],\n",
       "       [1.42962891e+01, 3.00000000e+02, 3.67710000e+01, 5.03717670e-02,\n",
       "        1.37752063e+02, 2.85150000e+00],\n",
       "       [1.53328870e+01, 2.94000000e+02, 1.37860000e+01, 0.00000000e+00,\n",
       "        1.45631018e+02, 2.43444000e+00],\n",
       "       [1.51803222e+01, 2.90000000e+02, 1.17160000e+01, 0.00000000e+00,\n",
       "        1.51447866e+02, 2.41711000e+00],\n",
       "       [1.51803222e+01, 2.18000000e+02, 3.44140000e+01, 0.00000000e+00,\n",
       "        8.28205816e+01, 2.51033000e+00],\n",
       "       [1.50292755e+01, 3.45000000e+02, 2.46860000e+01, 0.00000000e+00,\n",
       "        1.39177973e+02, 2.07520000e+00],\n",
       "       [1.47316759e+01, 2.76000000e+02, 2.33350000e+01, 2.67647360e-02,\n",
       "        1.45074362e+02, 2.39876000e+00],\n",
       "       [1.54869851e+01, 2.90000000e+02, 4.01220000e+01, 6.44748500e-02,\n",
       "        2.40291967e+02, 2.35971000e+00],\n",
       "       [1.59586340e+01, 2.78000000e+02, 1.07820000e+01, 0.00000000e+00,\n",
       "        1.47827501e+02, 2.40702000e+00],\n",
       "       [1.44399692e+01, 3.28000000e+02, 5.17270000e+01, 5.50000000e-02,\n",
       "        1.92326575e+02, 2.17695000e+00],\n",
       "       [1.53328870e+01, 2.98000000e+02, 1.65730000e+01, 0.00000000e+00,\n",
       "        1.19627060e+02, 2.19897000e+00],\n",
       "       [1.54869851e+01, 2.68000000e+02, 2.56860000e+01, 0.00000000e+00,\n",
       "        1.15376293e+02, 2.30943000e+00],\n",
       "       [1.56426319e+01, 2.49000000e+02, 4.24150000e+01, 4.44119080e-02,\n",
       "        1.62384774e+02, 2.39073000e+00],\n",
       "       [1.50292755e+01, 3.15000000e+02, 4.47960000e+01, 3.50000000e-02,\n",
       "        1.22927439e+02, 2.28031000e+00],\n",
       "       [1.53328870e+01, 2.10000000e+02, 2.51210000e+01, 0.00000000e+00,\n",
       "        1.08373392e+02, 3.10158000e+00],\n",
       "       [1.57998430e+01, 2.35000000e+02, 3.24770000e+01, 0.00000000e+00,\n",
       "        9.46604306e+01, 2.07661000e+00],\n",
       "       [1.48797317e+01, 3.30000000e+02, 3.67430000e+01, 5.99573910e-02,\n",
       "        1.75534039e+02, 3.10599000e+00],\n",
       "       [1.61190209e+01, 2.53000000e+02, 2.20540000e+01, 0.00000000e+00,\n",
       "        1.33141930e+02, 2.64979000e+00],\n",
       "       [1.50292755e+01, 2.10000000e+02, 4.70230000e+01, 4.92546330e-02,\n",
       "        9.72131375e+01, 3.13095000e+00],\n",
       "       [1.54869851e+01, 2.19000000e+02, 1.80740000e+01, 0.00000000e+00,\n",
       "        1.09468605e+02, 2.55737000e+00],\n",
       "       [1.51803222e+01, 0.00000000e+00, 4.03050000e+01, 0.00000000e+00,\n",
       "        1.28919725e+02, 2.55256000e+00],\n",
       "       [1.51803222e+01, 2.90000000e+02, 2.56630000e+01, 4.55814880e-02,\n",
       "        1.51747590e+02, 2.24545000e+00],\n",
       "       [1.45850933e+01, 3.99000000e+02, 3.72480000e+01, 5.67090180e-02,\n",
       "        1.67535619e+02, 2.78635000e+00],\n",
       "       [1.53328870e+01, 2.90000000e+02, 3.70360000e+01, 0.00000000e+00,\n",
       "        2.01891372e+02, 2.49391000e+00],\n",
       "       [1.59586340e+01, 2.92000000e+02, 2.94850000e+01, 0.00000000e+00,\n",
       "        7.16115083e+01, 3.08540000e+00],\n",
       "       [1.59586340e+01, 2.98000000e+02, 2.68510000e+01, 0.00000000e+00,\n",
       "        8.02987355e+01, 2.84464000e+00],\n",
       "       [1.56426319e+01, 2.56690000e+02, 4.86110000e+01, 5.42092460e-02,\n",
       "        1.35093452e+02, 2.65688000e+00],\n",
       "       [1.57998430e+01, 2.12000000e+02, 3.46840000e+01, 0.00000000e+00,\n",
       "        6.24854913e+01, 2.95312000e+00],\n",
       "       [1.61190209e+01, 2.98000000e+02, 4.10480000e+01, 5.39564930e-02,\n",
       "        1.63130389e+02, 2.41695000e+00],\n",
       "       [1.54869851e+01, 3.54000000e+02, 3.71150000e+01, 0.00000000e+00,\n",
       "        1.31845760e+02, 2.59796000e+00],\n",
       "       [1.44399692e+01, 2.90000000e+02, 3.96090000e+01, 6.23628960e-02,\n",
       "        1.92673224e+02, 2.58442000e+00],\n",
       "       [1.51803222e+01, 2.08000000e+02, 3.31690000e+01, 0.00000000e+00,\n",
       "        1.05877125e+02, 2.83324000e+00],\n",
       "       [1.56426319e+01, 3.41000000e+02, 2.61280000e+01, 0.00000000e+00,\n",
       "        7.38525326e+01, 2.53717000e+00],\n",
       "       [1.40132036e+01, 2.47000000e+02, 4.53070000e+01, 0.00000000e+00,\n",
       "        1.17685693e+02, 2.84149000e+00],\n",
       "       [1.50292755e+01, 0.00000000e+00, 3.41170000e+01, 6.03993180e-02,\n",
       "        1.81520988e+02, 2.42992000e+00],\n",
       "       [1.57998430e+01, 2.39000000e+02, 3.92530000e+01, 0.00000000e+00,\n",
       "        1.55805647e+02, 2.73840000e+00],\n",
       "       [1.57998430e+01, 3.41000000e+02, 3.19600000e+01, 0.00000000e+00,\n",
       "        1.91663728e+02, 2.73315000e+00],\n",
       "       [1.59586340e+01, 3.20000000e+02, 5.75430000e+01, 7.58937110e-02,\n",
       "        1.76962886e+02, 2.38990000e+00],\n",
       "       [1.59586340e+01, 2.56690000e+02, 2.93230000e+01, 4.00000000e-02,\n",
       "        1.76958036e+02, 2.92802000e+00],\n",
       "       [1.54869851e+01, 2.34000000e+02, 4.21440000e+01, 5.40007880e-02,\n",
       "        9.81825790e+01, 2.70725000e+00],\n",
       "       [1.50292755e+01, 3.15000000e+02, 2.42190000e+01, 0.00000000e+00,\n",
       "        1.53421792e+02, 2.03925000e+00],\n",
       "       [1.50292755e+01, 3.14000000e+02, 1.63880000e+01, 0.00000000e+00,\n",
       "        7.67340000e+01, 2.22134000e+00],\n",
       "       [1.53328870e+01, 0.00000000e+00, 2.33310000e+01, 0.00000000e+00,\n",
       "        1.79130283e+02, 2.70763000e+00],\n",
       "       [1.53328870e+01, 3.20000000e+02, 1.89700000e+01, 0.00000000e+00,\n",
       "        1.38321308e+02, 2.14819000e+00],\n",
       "       [1.45850933e+01, 3.24000000e+02, 6.26920000e+01, 5.00000000e-02,\n",
       "        1.31590200e+02, 2.00604000e+00],\n",
       "       [1.51803222e+01, 3.50000000e+02, 1.87990000e+01, 0.00000000e+00,\n",
       "        1.92621918e+02, 2.08844000e+00],\n",
       "       [1.53328870e+01, 2.09000000e+02, 1.80260000e+01, 3.44827590e-02,\n",
       "        1.20268056e+02, 2.94570000e+00],\n",
       "       [1.56426319e+01, 2.35000000e+02, 1.82010000e+01, 0.00000000e+00,\n",
       "        1.88183236e+02, 2.93475000e+00],\n",
       "       [1.37357236e+01, 2.51000000e+02, 3.78360000e+01, 5.10458440e-02,\n",
       "        1.35152309e+02, 2.66283000e+00],\n",
       "       [1.51803222e+01, 2.01000000e+02, 5.21370000e+01, 7.37639550e-02,\n",
       "        9.80268523e+01, 3.06922000e+00],\n",
       "       [1.56426319e+01, 2.21000000e+02, 1.64810000e+01, 0.00000000e+00,\n",
       "        1.43462018e+02, 2.80915000e+00],\n",
       "       [1.45850933e+01, 3.10000000e+02, 4.89870000e+01, 4.50000000e-02,\n",
       "        1.84804360e+02, 2.22604000e+00],\n",
       "       [1.57998430e+01, 3.10000000e+02, 2.13980000e+01, 0.00000000e+00,\n",
       "        1.25329118e+02, 2.30628000e+00],\n",
       "       [1.44399692e+01, 3.00000000e+02, 1.74090000e+01, 3.30526970e-02,\n",
       "        1.21170686e+02, 2.87728000e+00],\n",
       "       [1.59586340e+01, 2.50000000e+02, 2.69590000e+01, 0.00000000e+00,\n",
       "        1.48718250e+02, 2.47845000e+00],\n",
       "       [1.51803222e+01, 2.18000000e+02, 3.43310000e+01, 0.00000000e+00,\n",
       "        1.58458182e+02, 3.14720000e+00],\n",
       "       [1.50292755e+01, 2.90000000e+02, 5.97040000e+01, 9.07627290e-02,\n",
       "        1.57734277e+02, 2.38470000e+00],\n",
       "       [1.56426319e+01, 2.56690000e+02, 5.09350000e+01, 6.10000000e-02,\n",
       "        1.64527411e+02, 2.53958000e+00]])"
      ]
     },
     "execution_count": 20,
     "metadata": {},
     "output_type": "execute_result"
    }
   ],
   "source": [
    "X_train.he"
   ]
  },
  {
   "cell_type": "code",
   "execution_count": 21,
   "metadata": {},
   "outputs": [
    {
     "data": {
      "text/plain": [
       "(78,)"
      ]
     },
     "execution_count": 21,
     "metadata": {},
     "output_type": "execute_result"
    }
   ],
   "source": [
    "y_train.shape"
   ]
  },
  {
   "cell_type": "markdown",
   "metadata": {},
   "source": [
    "### Create & train the model"
   ]
  },
  {
   "cell_type": "code",
   "execution_count": 22,
   "metadata": {},
   "outputs": [
    {
     "data": {
      "text/plain": [
       "{'bootstrap': True,\n",
       " 'ccp_alpha': 0.0,\n",
       " 'criterion': 'mse',\n",
       " 'max_depth': None,\n",
       " 'max_features': 'auto',\n",
       " 'max_leaf_nodes': None,\n",
       " 'max_samples': None,\n",
       " 'min_impurity_decrease': 0.0,\n",
       " 'min_impurity_split': None,\n",
       " 'min_samples_leaf': 1,\n",
       " 'min_samples_split': 2,\n",
       " 'min_weight_fraction_leaf': 0.0,\n",
       " 'n_estimators': 10,\n",
       " 'n_jobs': None,\n",
       " 'oob_score': False,\n",
       " 'random_state': 0,\n",
       " 'verbose': 0,\n",
       " 'warm_start': False}"
      ]
     },
     "execution_count": 22,
     "metadata": {},
     "output_type": "execute_result"
    }
   ],
   "source": [
    "from sklearn.ensemble import RandomForestRegressor\n",
    "regressor = RandomForestRegressor(n_estimators = 10, random_state = 0)\n",
    "regressor.fit(X_train, y_train)\n",
    "regressor.get_params()"
   ]
  },
  {
   "cell_type": "markdown",
   "metadata": {},
   "source": [
    "### Predicting a new result"
   ]
  },
  {
   "cell_type": "code",
   "execution_count": 23,
   "metadata": {},
   "outputs": [],
   "source": [
    "y_pred = regressor.predict(X_test)"
   ]
  },
  {
   "cell_type": "code",
   "execution_count": 24,
   "metadata": {},
   "outputs": [
    {
     "data": {
      "text/plain": [
       "array([20538, 18779, 20153, 18667, 19953, 18941, 17431, 22730, 18755,\n",
       "       19564, 22228, 21034, 20204, 18289, 19400, 20064, 19529, 19597,\n",
       "       18473, 24219, 19126, 20988, 21139, 21710, 20442, 22767],\n",
       "      dtype=int64)"
      ]
     },
     "execution_count": 24,
     "metadata": {},
     "output_type": "execute_result"
    }
   ],
   "source": [
    "y_test"
   ]
  },
  {
   "cell_type": "code",
   "execution_count": 25,
   "metadata": {},
   "outputs": [
    {
     "data": {
      "text/plain": [
       "array([20047.9, 19071.4, 19314.8, 18683.5, 19610.9, 19248.7, 19456.4,\n",
       "       23083.2, 20166.5, 20013. , 21776.9, 20039.6, 23046.6, 19663.4,\n",
       "       21610.2, 20343.4, 20855.1, 19019.2, 19781.2, 23770.5, 19263.2,\n",
       "       20929.4, 20539.8, 22081.7, 19651.3, 23664. ])"
      ]
     },
     "execution_count": 25,
     "metadata": {},
     "output_type": "execute_result"
    }
   ],
   "source": [
    "y_pred"
   ]
  },
  {
   "cell_type": "code",
   "execution_count": 26,
   "metadata": {},
   "outputs": [
    {
     "data": {
      "text/plain": [
       "0.5304360131856622"
      ]
     },
     "execution_count": 26,
     "metadata": {},
     "output_type": "execute_result"
    }
   ],
   "source": [
    "from sklearn.metrics import r2_score\n",
    "r2_score(y_test,y_pred)"
   ]
  },
  {
   "cell_type": "code",
   "execution_count": null,
   "metadata": {},
   "outputs": [],
   "source": []
  }
 ],
 "metadata": {
  "kernelspec": {
   "display_name": "Python 3",
   "language": "python",
   "name": "python3"
  },
  "language_info": {
   "codemirror_mode": {
    "name": "ipython",
    "version": 3
   },
   "file_extension": ".py",
   "mimetype": "text/x-python",
   "name": "python",
   "nbconvert_exporter": "python",
   "pygments_lexer": "ipython3",
   "version": "3.8.3"
  }
 },
 "nbformat": 4,
 "nbformat_minor": 4
}
